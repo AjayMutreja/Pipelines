{
 "cells": [
  {
   "cell_type": "markdown",
   "metadata": {},
   "source": [
    "# Pipelines with Pandas for Data Science"
   ]
  },
  {
   "cell_type": "raw",
   "metadata": {},
   "source": [
    "# Scenario 1\n",
    "The Group Comoany has Two Branches and the Head Finance Manager wants to know the TAX_refund Amount of the Expenses "
   ]
  },
  {
   "cell_type": "code",
   "execution_count": 77,
   "metadata": {},
   "outputs": [
    {
     "name": "stdout",
     "output_type": "stream",
     "text": [
      "Data Ok\n"
     ]
    }
   ],
   "source": [
    "# A Group Company has Two Branches, \n",
    "# Each Employee of the company submits their expense statement using an Input Program in their office & the Data is stored in the company data base directory as T_Exp_Data \n",
    "\n",
    "#Company A\n",
    "T_Exp_Data_1 ={\n",
    "    'Employee_Code':['001','002','003','004','005'],\n",
    "    'Name':['A','B','C','D','E'],\n",
    "    'Gender':['Male', 'Female', 'Male', 'Female', 'Male'],\n",
    "    'Status':['Permanent', 'Probation', 'Adhoc', 'Permanent', 'Probation'],\n",
    "    'Travel':['Yes','No','Yes','No','No'],\n",
    "    'Food':[900,325,505,650,200],\n",
    "    'Taxi':[0,20,10,5,50]\n",
    "}\n",
    "\n",
    "#Company B\n",
    "T_Exp_Data_2 ={\n",
    "    'Employee_Code':['101','102','103','104','105'],\n",
    "    'Name':['A','B','C','D','E'],\n",
    "    'Gender':['Female', 'Male', 'Female', 'Male', 'Female'],\n",
    "    'Status':['Adhoc', 'Probation', 'Permanent', 'Adhoc', 'Probation'],\n",
    "    'Travel':['Yes','Yes','No','Yes','Yes'],\n",
    "    'Food':[350,325,475,600,215],\n",
    "    'Taxi':[0,20,10,5,50]\n",
    "}\n",
    "\n",
    "print(\"Data Ok\")"
   ]
  },
  {
   "cell_type": "code",
   "execution_count": 73,
   "metadata": {},
   "outputs": [
    {
     "name": "stdout",
     "output_type": "stream",
     "text": [
      "Environment Set\n"
     ]
    }
   ],
   "source": [
    "# Now we need to get this data from the database to the expense calculator programme\n",
    "# We would perform calculations with Python using pandas\n",
    "# 1. Set the Pandas Environment\n",
    "import pandas as pd\n",
    "from pandas import DataFrame\n",
    "print('Environment Set')"
   ]
  },
  {
   "cell_type": "code",
   "execution_count": 89,
   "metadata": {},
   "outputs": [
    {
     "data": {
      "text/html": [
       "<div>\n",
       "<style scoped>\n",
       "    .dataframe tbody tr th:only-of-type {\n",
       "        vertical-align: middle;\n",
       "    }\n",
       "\n",
       "    .dataframe tbody tr th {\n",
       "        vertical-align: top;\n",
       "    }\n",
       "\n",
       "    .dataframe thead th {\n",
       "        text-align: right;\n",
       "    }\n",
       "</style>\n",
       "<table border=\"1\" class=\"dataframe\">\n",
       "  <thead>\n",
       "    <tr style=\"text-align: right;\">\n",
       "      <th></th>\n",
       "      <th>Name</th>\n",
       "      <th>Gender</th>\n",
       "      <th>Status</th>\n",
       "      <th>Travel</th>\n",
       "      <th>Food</th>\n",
       "      <th>Taxi</th>\n",
       "    </tr>\n",
       "    <tr>\n",
       "      <th>Employee_Code</th>\n",
       "      <th></th>\n",
       "      <th></th>\n",
       "      <th></th>\n",
       "      <th></th>\n",
       "      <th></th>\n",
       "      <th></th>\n",
       "    </tr>\n",
       "  </thead>\n",
       "  <tbody>\n",
       "    <tr>\n",
       "      <th>001</th>\n",
       "      <td>A</td>\n",
       "      <td>Male</td>\n",
       "      <td>Permanent</td>\n",
       "      <td>Yes</td>\n",
       "      <td>900</td>\n",
       "      <td>0</td>\n",
       "    </tr>\n",
       "    <tr>\n",
       "      <th>003</th>\n",
       "      <td>C</td>\n",
       "      <td>Male</td>\n",
       "      <td>Adhoc</td>\n",
       "      <td>Yes</td>\n",
       "      <td>505</td>\n",
       "      <td>10</td>\n",
       "    </tr>\n",
       "    <tr>\n",
       "      <th>101</th>\n",
       "      <td>A</td>\n",
       "      <td>Female</td>\n",
       "      <td>Adhoc</td>\n",
       "      <td>Yes</td>\n",
       "      <td>350</td>\n",
       "      <td>0</td>\n",
       "    </tr>\n",
       "    <tr>\n",
       "      <th>102</th>\n",
       "      <td>B</td>\n",
       "      <td>Male</td>\n",
       "      <td>Probation</td>\n",
       "      <td>Yes</td>\n",
       "      <td>325</td>\n",
       "      <td>20</td>\n",
       "    </tr>\n",
       "    <tr>\n",
       "      <th>104</th>\n",
       "      <td>D</td>\n",
       "      <td>Male</td>\n",
       "      <td>Adhoc</td>\n",
       "      <td>Yes</td>\n",
       "      <td>600</td>\n",
       "      <td>5</td>\n",
       "    </tr>\n",
       "    <tr>\n",
       "      <th>105</th>\n",
       "      <td>E</td>\n",
       "      <td>Female</td>\n",
       "      <td>Probation</td>\n",
       "      <td>Yes</td>\n",
       "      <td>215</td>\n",
       "      <td>50</td>\n",
       "    </tr>\n",
       "  </tbody>\n",
       "</table>\n",
       "</div>"
      ],
      "text/plain": [
       "              Name  Gender     Status Travel  Food  Taxi\n",
       "Employee_Code                                           \n",
       "001              A    Male  Permanent    Yes   900     0\n",
       "003              C    Male      Adhoc    Yes   505    10\n",
       "101              A  Female      Adhoc    Yes   350     0\n",
       "102              B    Male  Probation    Yes   325    20\n",
       "104              D    Male      Adhoc    Yes   600     5\n",
       "105              E  Female  Probation    Yes   215    50"
      ]
     },
     "execution_count": 89,
     "metadata": {},
     "output_type": "execute_result"
    }
   ],
   "source": [
    "# 2.  Government gets Data From Company A & B and Create a DataFrame for Calculation and create a new dataframe Where 'Travel' = 'Yes'\n",
    "\n",
    "dfA=pd.DataFrame(T_Exp_Data_1) # Create Dataframe of Data from Company 1\n",
    "dfB=pd.DataFrame(T_Exp_Data_2) # Create Dataframe of Data from Company 2\n",
    "dfn = pd.concat([dfA,dfB])     # Combine all the Data\n",
    "dfT=dfn[dfn.Travel == 'Yes']   # Clean Data, Keep only Travel Data, Since tax Refund is only on Travel Expenses\n",
    "dfT.set_index('Employee_Code', inplace=True)\n",
    "dfT"
   ]
  },
  {
   "cell_type": "code",
   "execution_count": 16,
   "metadata": {},
   "outputs": [
    {
     "name": "stdout",
     "output_type": "stream",
     "text": [
      "Collecting pdpipe\n",
      "\u001b[?25l  Downloading https://files.pythonhosted.org/packages/cf/78/029e7781a3029e105b1ad7bc7dc878b46408186c60c21e15d1e68030331e/pdpipe-0.0.46-py3-none-any.whl (47kB)\n",
      "\u001b[K     |████████████████████████████████| 51kB 6.9MB/s eta 0:00:011\n",
      "\u001b[?25hCollecting strct (from pdpipe)\n",
      "  Downloading https://files.pythonhosted.org/packages/4a/c4/bd0de8562cb3731bdfcc33a4627c755a2d9c5e6e96b73546134c43acf1be/strct-0.0.30-py2.py3-none-any.whl\n",
      "Collecting skutil>=0.0.15 (from pdpipe)\n",
      "  Downloading https://files.pythonhosted.org/packages/34/2b/1b5c9e7be3c24e1bd5ce35c2d27a5780989c3d90fcee10f3fee3074dda7f/skutil-0.0.16-py2.py3-none-any.whl\n",
      "Collecting tqdm (from pdpipe)\n",
      "\u001b[?25l  Downloading https://files.pythonhosted.org/packages/1c/1a/cd6ee6b8b06557dcc5590785af2fe90fa10c19c28e567c1e3a299d5081e7/tqdm-4.44.1-py2.py3-none-any.whl (60kB)\n",
      "\u001b[K     |████████████████████████████████| 61kB 15.8MB/s eta 0:00:01\n",
      "\u001b[?25hCollecting sortedcontainers (from pdpipe)\n",
      "  Downloading https://files.pythonhosted.org/packages/13/f3/cf85f7c3a2dbd1a515d51e1f1676d971abe41bba6f4ab5443240d9a78e5b/sortedcontainers-2.1.0-py2.py3-none-any.whl\n",
      "Requirement already satisfied: pandas>=0.18.0 in /home/jupyterlab/conda/envs/python/lib/python3.6/site-packages (from pdpipe) (1.0.0)\n",
      "Requirement already satisfied: numpy in /home/jupyterlab/conda/envs/python/lib/python3.6/site-packages (from skutil>=0.0.15->pdpipe) (1.14.2)\n",
      "Collecting decore (from skutil>=0.0.15->pdpipe)\n",
      "  Downloading https://files.pythonhosted.org/packages/b4/69/9e3da3a87058d43e5b9f0f668f69da591b8b0c2763b3afbfea084582ea57/decore-0.0.1.tar.gz\n",
      "Requirement already satisfied: pytz>=2017.2 in /home/jupyterlab/conda/envs/python/lib/python3.6/site-packages (from pandas>=0.18.0->pdpipe) (2019.3)\n",
      "Requirement already satisfied: python-dateutil>=2.6.1 in /home/jupyterlab/conda/envs/python/lib/python3.6/site-packages (from pandas>=0.18.0->pdpipe) (2.8.1)\n",
      "Requirement already satisfied: six>=1.5 in /home/jupyterlab/conda/envs/python/lib/python3.6/site-packages (from python-dateutil>=2.6.1->pandas>=0.18.0->pdpipe) (1.14.0)\n",
      "Building wheels for collected packages: decore\n",
      "  Building wheel for decore (setup.py) ... \u001b[?25ldone\n",
      "\u001b[?25h  Stored in directory: /home/jupyterlab/.cache/pip/wheels/6c/1b/9c/71fa8b5df01cc605c4b5cadcd81df76d520149ca5c02b4013b\n",
      "Successfully built decore\n",
      "Installing collected packages: strct, decore, skutil, tqdm, sortedcontainers, pdpipe\n",
      "Successfully installed decore-0.0.1 pdpipe-0.0.46 skutil-0.0.16 sortedcontainers-2.1.0 strct-0.0.30 tqdm-4.44.1\n",
      "Note: you may need to restart the kernel to use updated packages.\n"
     ]
    }
   ],
   "source": [
    "pip install pdpipe"
   ]
  },
  {
   "cell_type": "code",
   "execution_count": 36,
   "metadata": {},
   "outputs": [
    {
     "name": "stdout",
     "output_type": "stream",
     "text": [
      "Import Successful\n"
     ]
    }
   ],
   "source": [
    "import pdpipe as pdp\n",
    "print(\"Import Successful\")"
   ]
  },
  {
   "cell_type": "code",
   "execution_count": 151,
   "metadata": {},
   "outputs": [
    {
     "data": {
      "text/html": [
       "<div>\n",
       "<style scoped>\n",
       "    .dataframe tbody tr th:only-of-type {\n",
       "        vertical-align: middle;\n",
       "    }\n",
       "\n",
       "    .dataframe tbody tr th {\n",
       "        vertical-align: top;\n",
       "    }\n",
       "\n",
       "    .dataframe thead th {\n",
       "        text-align: right;\n",
       "    }\n",
       "</style>\n",
       "<table border=\"1\" class=\"dataframe\">\n",
       "  <thead>\n",
       "    <tr style=\"text-align: right;\">\n",
       "      <th></th>\n",
       "      <th>Gender</th>\n",
       "      <th>Status</th>\n",
       "      <th>Food</th>\n",
       "      <th>Taxi</th>\n",
       "    </tr>\n",
       "    <tr>\n",
       "      <th>Employee_Code</th>\n",
       "      <th></th>\n",
       "      <th></th>\n",
       "      <th></th>\n",
       "      <th></th>\n",
       "    </tr>\n",
       "  </thead>\n",
       "  <tbody>\n",
       "    <tr>\n",
       "      <th>001</th>\n",
       "      <td>Male</td>\n",
       "      <td>Permanent</td>\n",
       "      <td>900</td>\n",
       "      <td>0</td>\n",
       "    </tr>\n",
       "    <tr>\n",
       "      <th>003</th>\n",
       "      <td>Male</td>\n",
       "      <td>Adhoc</td>\n",
       "      <td>505</td>\n",
       "      <td>10</td>\n",
       "    </tr>\n",
       "    <tr>\n",
       "      <th>101</th>\n",
       "      <td>Female</td>\n",
       "      <td>Adhoc</td>\n",
       "      <td>350</td>\n",
       "      <td>0</td>\n",
       "    </tr>\n",
       "    <tr>\n",
       "      <th>102</th>\n",
       "      <td>Male</td>\n",
       "      <td>Probation</td>\n",
       "      <td>325</td>\n",
       "      <td>20</td>\n",
       "    </tr>\n",
       "    <tr>\n",
       "      <th>104</th>\n",
       "      <td>Male</td>\n",
       "      <td>Adhoc</td>\n",
       "      <td>600</td>\n",
       "      <td>5</td>\n",
       "    </tr>\n",
       "    <tr>\n",
       "      <th>105</th>\n",
       "      <td>Female</td>\n",
       "      <td>Probation</td>\n",
       "      <td>215</td>\n",
       "      <td>50</td>\n",
       "    </tr>\n",
       "  </tbody>\n",
       "</table>\n",
       "</div>"
      ],
      "text/plain": [
       "               Gender     Status  Food  Taxi\n",
       "Employee_Code                               \n",
       "001              Male  Permanent   900     0\n",
       "003              Male      Adhoc   505    10\n",
       "101            Female      Adhoc   350     0\n",
       "102              Male  Probation   325    20\n",
       "104              Male      Adhoc   600     5\n",
       "105            Female  Probation   215    50"
      ]
     },
     "execution_count": 151,
     "metadata": {},
     "output_type": "execute_result"
    }
   ],
   "source": [
    "Pipeline1 = pdp.ColDrop('Travel')\n",
    "Pipeline1+= pdp.ColDrop('Name')\n",
    "\n",
    "dfD = Pipeline1(dfT)\n",
    "dfD"
   ]
  },
  {
   "cell_type": "code",
   "execution_count": 104,
   "metadata": {},
   "outputs": [
    {
     "data": {
      "text/html": [
       "<div>\n",
       "<style scoped>\n",
       "    .dataframe tbody tr th:only-of-type {\n",
       "        vertical-align: middle;\n",
       "    }\n",
       "\n",
       "    .dataframe tbody tr th {\n",
       "        vertical-align: top;\n",
       "    }\n",
       "\n",
       "    .dataframe thead th {\n",
       "        text-align: right;\n",
       "    }\n",
       "</style>\n",
       "<table border=\"1\" class=\"dataframe\">\n",
       "  <thead>\n",
       "    <tr style=\"text-align: right;\">\n",
       "      <th></th>\n",
       "      <th>Food</th>\n",
       "      <th>Taxi</th>\n",
       "    </tr>\n",
       "    <tr>\n",
       "      <th>Employee_Code</th>\n",
       "      <th></th>\n",
       "      <th></th>\n",
       "    </tr>\n",
       "  </thead>\n",
       "  <tbody>\n",
       "    <tr>\n",
       "      <th>001</th>\n",
       "      <td>900</td>\n",
       "      <td>0</td>\n",
       "    </tr>\n",
       "    <tr>\n",
       "      <th>003</th>\n",
       "      <td>505</td>\n",
       "      <td>10</td>\n",
       "    </tr>\n",
       "    <tr>\n",
       "      <th>101</th>\n",
       "      <td>350</td>\n",
       "      <td>0</td>\n",
       "    </tr>\n",
       "    <tr>\n",
       "      <th>102</th>\n",
       "      <td>325</td>\n",
       "      <td>20</td>\n",
       "    </tr>\n",
       "    <tr>\n",
       "      <th>104</th>\n",
       "      <td>600</td>\n",
       "      <td>5</td>\n",
       "    </tr>\n",
       "    <tr>\n",
       "      <th>105</th>\n",
       "      <td>215</td>\n",
       "      <td>50</td>\n",
       "    </tr>\n",
       "  </tbody>\n",
       "</table>\n",
       "</div>"
      ],
      "text/plain": [
       "               Food  Taxi\n",
       "Employee_Code            \n",
       "001             900     0\n",
       "003             505    10\n",
       "101             350     0\n",
       "102             325    20\n",
       "104             600     5\n",
       "105             215    50"
      ]
     },
     "execution_count": 104,
     "metadata": {},
     "output_type": "execute_result"
    }
   ],
   "source": [
    "Pipeline2 = pdp.ColDrop('Status')\n",
    "dfD2=Pipeline2(dfD)\n",
    "dfD2\n",
    "Pipeline3= pdp.ColDrop('Gender')\n",
    "dfD3=Pipeline3(dfD2)\n",
    "dfD3"
   ]
  },
  {
   "cell_type": "code",
   "execution_count": 94,
   "metadata": {},
   "outputs": [
    {
     "name": "stdout",
     "output_type": "stream",
     "text": [
      "Total_Tax_Refund:  149.0 USD\n"
     ]
    }
   ],
   "source": [
    "Total =dfD3.sum().sum()\n",
    "#TRR = Tax_Refund_Rate, TTR = Total Tax Refund\n",
    "TRR = 5/100\n",
    "TTR = TRR*Total\n",
    "print(\"Total_Tax_Refund: \", TTR , \"USD\")"
   ]
  },
  {
   "cell_type": "markdown",
   "metadata": {},
   "source": [
    "# Scenario 2\n",
    "Show Pipelines can move data as well as functions for various calculations"
   ]
  },
  {
   "cell_type": "raw",
   "metadata": {},
   "source": [
    "Let's Create Some Functions first that we need to pipe"
   ]
  },
  {
   "cell_type": "code",
   "execution_count": 119,
   "metadata": {},
   "outputs": [],
   "source": [
    "# Create two functions such as \n",
    "def mean_expense_by_group(dataframe, col):\n",
    "    # groups the data by a column and returns the mean food expende per group\n",
    "    return dataframe.groupby(col).mean()\n",
    "\n",
    "def uppercase_column_name(dataframe):\n",
    "    # Capitalizes all the column headers\n",
    "    dataframe.columns = dataframe.columns.str.upper()\n",
    "    # And returns them\n",
    "    return dataframe"
   ]
  },
  {
   "cell_type": "code",
   "execution_count": 123,
   "metadata": {},
   "outputs": [
    {
     "data": {
      "text/html": [
       "<div>\n",
       "<style scoped>\n",
       "    .dataframe tbody tr th:only-of-type {\n",
       "        vertical-align: middle;\n",
       "    }\n",
       "\n",
       "    .dataframe tbody tr th {\n",
       "        vertical-align: top;\n",
       "    }\n",
       "\n",
       "    .dataframe thead th {\n",
       "        text-align: right;\n",
       "    }\n",
       "</style>\n",
       "<table border=\"1\" class=\"dataframe\">\n",
       "  <thead>\n",
       "    <tr style=\"text-align: right;\">\n",
       "      <th></th>\n",
       "      <th>Food</th>\n",
       "    </tr>\n",
       "    <tr>\n",
       "      <th>Gender</th>\n",
       "      <th></th>\n",
       "    </tr>\n",
       "  </thead>\n",
       "  <tbody>\n",
       "    <tr>\n",
       "      <th>Male</th>\n",
       "      <td>900</td>\n",
       "    </tr>\n",
       "    <tr>\n",
       "      <th>Male</th>\n",
       "      <td>505</td>\n",
       "    </tr>\n",
       "    <tr>\n",
       "      <th>Female</th>\n",
       "      <td>350</td>\n",
       "    </tr>\n",
       "    <tr>\n",
       "      <th>Male</th>\n",
       "      <td>325</td>\n",
       "    </tr>\n",
       "    <tr>\n",
       "      <th>Male</th>\n",
       "      <td>600</td>\n",
       "    </tr>\n",
       "    <tr>\n",
       "      <th>Female</th>\n",
       "      <td>215</td>\n",
       "    </tr>\n",
       "  </tbody>\n",
       "</table>\n",
       "</div>"
      ],
      "text/plain": [
       "        Food\n",
       "Gender      \n",
       "Male     900\n",
       "Male     505\n",
       "Female   350\n",
       "Male     325\n",
       "Male     600\n",
       "Female   215"
      ]
     },
     "execution_count": 123,
     "metadata": {},
     "output_type": "execute_result"
    }
   ],
   "source": [
    "# Then Create an appropriate Dataframe to be applied\n",
    "# We can reuse the Dataframe which was the result of Pipeline 2 action i.e. dfD2\n",
    "\n",
    "df = dfD2.drop(columns = ['Taxi'], axis =1)\n",
    "df.set_index('Gender', inplace = True)\n",
    "df"
   ]
  },
  {
   "cell_type": "code",
   "execution_count": 124,
   "metadata": {},
   "outputs": [
    {
     "data": {
      "text/html": [
       "<div>\n",
       "<style scoped>\n",
       "    .dataframe tbody tr th:only-of-type {\n",
       "        vertical-align: middle;\n",
       "    }\n",
       "\n",
       "    .dataframe tbody tr th {\n",
       "        vertical-align: top;\n",
       "    }\n",
       "\n",
       "    .dataframe thead th {\n",
       "        text-align: right;\n",
       "    }\n",
       "</style>\n",
       "<table border=\"1\" class=\"dataframe\">\n",
       "  <thead>\n",
       "    <tr style=\"text-align: right;\">\n",
       "      <th></th>\n",
       "      <th>Food</th>\n",
       "    </tr>\n",
       "    <tr>\n",
       "      <th>Gender</th>\n",
       "      <th></th>\n",
       "    </tr>\n",
       "  </thead>\n",
       "  <tbody>\n",
       "    <tr>\n",
       "      <th>Female</th>\n",
       "      <td>282.5</td>\n",
       "    </tr>\n",
       "    <tr>\n",
       "      <th>Male</th>\n",
       "      <td>582.5</td>\n",
       "    </tr>\n",
       "  </tbody>\n",
       "</table>\n",
       "</div>"
      ],
      "text/plain": [
       "         Food\n",
       "Gender       \n",
       "Female  282.5\n",
       "Male    582.5"
      ]
     },
     "execution_count": 124,
     "metadata": {},
     "output_type": "execute_result"
    }
   ],
   "source": [
    "\n",
    "# Now Pipeline the function over the target dataframe\n",
    "\n",
    "A = df.pipe(mean_expense_by_group, col='Gender')\n",
    "A"
   ]
  },
  {
   "cell_type": "code",
   "execution_count": 122,
   "metadata": {},
   "outputs": [
    {
     "data": {
      "text/html": [
       "<div>\n",
       "<style scoped>\n",
       "    .dataframe tbody tr th:only-of-type {\n",
       "        vertical-align: middle;\n",
       "    }\n",
       "\n",
       "    .dataframe tbody tr th {\n",
       "        vertical-align: top;\n",
       "    }\n",
       "\n",
       "    .dataframe thead th {\n",
       "        text-align: right;\n",
       "    }\n",
       "</style>\n",
       "<table border=\"1\" class=\"dataframe\">\n",
       "  <thead>\n",
       "    <tr style=\"text-align: right;\">\n",
       "      <th></th>\n",
       "      <th>FOOD</th>\n",
       "    </tr>\n",
       "    <tr>\n",
       "      <th>Gender</th>\n",
       "      <th></th>\n",
       "    </tr>\n",
       "  </thead>\n",
       "  <tbody>\n",
       "    <tr>\n",
       "      <th>Female</th>\n",
       "      <td>282.5</td>\n",
       "    </tr>\n",
       "    <tr>\n",
       "      <th>Male</th>\n",
       "      <td>582.5</td>\n",
       "    </tr>\n",
       "  </tbody>\n",
       "</table>\n",
       "</div>"
      ],
      "text/plain": [
       "         FOOD\n",
       "Gender       \n",
       "Female  282.5\n",
       "Male    582.5"
      ]
     },
     "execution_count": 122,
     "metadata": {},
     "output_type": "execute_result"
    }
   ],
   "source": [
    "\n",
    "# Now pipe-in two functions together to action on the target dataframe\n",
    "\n",
    "B = (df.pipe(mean_expense_by_group, col='Gender'). pipe(uppercase_column_name))\n",
    "B"
   ]
  },
  {
   "cell_type": "code",
   "execution_count": 145,
   "metadata": {},
   "outputs": [
    {
     "data": {
      "text/html": [
       "<div>\n",
       "<style scoped>\n",
       "    .dataframe tbody tr th:only-of-type {\n",
       "        vertical-align: middle;\n",
       "    }\n",
       "\n",
       "    .dataframe tbody tr th {\n",
       "        vertical-align: top;\n",
       "    }\n",
       "\n",
       "    .dataframe thead th {\n",
       "        text-align: right;\n",
       "    }\n",
       "</style>\n",
       "<table border=\"1\" class=\"dataframe\">\n",
       "  <thead>\n",
       "    <tr style=\"text-align: right;\">\n",
       "      <th></th>\n",
       "      <th>FOOD</th>\n",
       "    </tr>\n",
       "    <tr>\n",
       "      <th>Gender</th>\n",
       "      <th></th>\n",
       "    </tr>\n",
       "  </thead>\n",
       "  <tbody>\n",
       "    <tr>\n",
       "      <th>Female</th>\n",
       "      <td>282.5</td>\n",
       "    </tr>\n",
       "    <tr>\n",
       "      <th>Male</th>\n",
       "      <td>582.5</td>\n",
       "    </tr>\n",
       "  </tbody>\n",
       "</table>\n",
       "</div>"
      ],
      "text/plain": [
       "         FOOD\n",
       "Gender       \n",
       "Female  282.5\n",
       "Male    582.5"
      ]
     },
     "execution_count": 145,
     "metadata": {},
     "output_type": "execute_result"
    }
   ],
   "source": [
    "#or pipe-in functions one by one to action on the target dataframe\n",
    "\n",
    "B = (A.pipe(uppercase_column_name))\n",
    "B"
   ]
  },
  {
   "cell_type": "code",
   "execution_count": 147,
   "metadata": {},
   "outputs": [
    {
     "data": {
      "text/html": [
       "<div>\n",
       "<style scoped>\n",
       "    .dataframe tbody tr th:only-of-type {\n",
       "        vertical-align: middle;\n",
       "    }\n",
       "\n",
       "    .dataframe tbody tr th {\n",
       "        vertical-align: top;\n",
       "    }\n",
       "\n",
       "    .dataframe thead th {\n",
       "        text-align: right;\n",
       "    }\n",
       "</style>\n",
       "<table border=\"1\" class=\"dataframe\">\n",
       "  <thead>\n",
       "    <tr style=\"text-align: right;\">\n",
       "      <th></th>\n",
       "      <th>Food</th>\n",
       "      <th>Taxi</th>\n",
       "      <th>Status_Permanent</th>\n",
       "      <th>Status_Probation</th>\n",
       "    </tr>\n",
       "    <tr>\n",
       "      <th>Employee_Code</th>\n",
       "      <th></th>\n",
       "      <th></th>\n",
       "      <th></th>\n",
       "      <th></th>\n",
       "    </tr>\n",
       "  </thead>\n",
       "  <tbody>\n",
       "    <tr>\n",
       "      <th>001</th>\n",
       "      <td>900</td>\n",
       "      <td>0</td>\n",
       "      <td>1</td>\n",
       "      <td>0</td>\n",
       "    </tr>\n",
       "    <tr>\n",
       "      <th>003</th>\n",
       "      <td>505</td>\n",
       "      <td>10</td>\n",
       "      <td>0</td>\n",
       "      <td>0</td>\n",
       "    </tr>\n",
       "    <tr>\n",
       "      <th>101</th>\n",
       "      <td>350</td>\n",
       "      <td>0</td>\n",
       "      <td>0</td>\n",
       "      <td>0</td>\n",
       "    </tr>\n",
       "    <tr>\n",
       "      <th>102</th>\n",
       "      <td>325</td>\n",
       "      <td>20</td>\n",
       "      <td>0</td>\n",
       "      <td>1</td>\n",
       "    </tr>\n",
       "    <tr>\n",
       "      <th>104</th>\n",
       "      <td>600</td>\n",
       "      <td>5</td>\n",
       "      <td>0</td>\n",
       "      <td>0</td>\n",
       "    </tr>\n",
       "    <tr>\n",
       "      <th>105</th>\n",
       "      <td>215</td>\n",
       "      <td>50</td>\n",
       "      <td>0</td>\n",
       "      <td>1</td>\n",
       "    </tr>\n",
       "  </tbody>\n",
       "</table>\n",
       "</div>"
      ],
      "text/plain": [
       "               Food  Taxi  Status_Permanent  Status_Probation\n",
       "Employee_Code                                                \n",
       "001             900     0                 1                 0\n",
       "003             505    10                 0                 0\n",
       "101             350     0                 0                 0\n",
       "102             325    20                 0                 1\n",
       "104             600     5                 0                 0\n",
       "105             215    50                 0                 1"
      ]
     },
     "execution_count": 147,
     "metadata": {},
     "output_type": "execute_result"
    }
   ],
   "source": [
    "# Adding complexity\n",
    "# We use Pipeline 3 action of on dfD created after Pipeline 1 further fork the same data for One Hot Encoding Method\n",
    "# We know that ourpipeline 3 was \"Pipeline3= pdp.ColDrop('Gender')\"\n",
    "\n",
    "Pipeline3= pdp.ColDrop('Gender')\n",
    "Pipeline3+= pdp.OneHotEncode('Status')\n",
    "dfD4 = Pipeline3(dfD)\n",
    "dfD4"
   ]
  },
  {
   "cell_type": "code",
   "execution_count": 157,
   "metadata": {},
   "outputs": [
    {
     "data": {
      "text/html": [
       "<div>\n",
       "<style scoped>\n",
       "    .dataframe tbody tr th:only-of-type {\n",
       "        vertical-align: middle;\n",
       "    }\n",
       "\n",
       "    .dataframe tbody tr th {\n",
       "        vertical-align: top;\n",
       "    }\n",
       "\n",
       "    .dataframe thead th {\n",
       "        text-align: right;\n",
       "    }\n",
       "</style>\n",
       "<table border=\"1\" class=\"dataframe\">\n",
       "  <thead>\n",
       "    <tr style=\"text-align: right;\">\n",
       "      <th></th>\n",
       "      <th>FOOD</th>\n",
       "      <th>TAXI</th>\n",
       "      <th>STATUS_PERMANENT</th>\n",
       "      <th>STATUS_PROBATION</th>\n",
       "    </tr>\n",
       "    <tr>\n",
       "      <th>Employee_Code</th>\n",
       "      <th></th>\n",
       "      <th></th>\n",
       "      <th></th>\n",
       "      <th></th>\n",
       "    </tr>\n",
       "  </thead>\n",
       "  <tbody>\n",
       "    <tr>\n",
       "      <th>001</th>\n",
       "      <td>900</td>\n",
       "      <td>0</td>\n",
       "      <td>1</td>\n",
       "      <td>0</td>\n",
       "    </tr>\n",
       "    <tr>\n",
       "      <th>003</th>\n",
       "      <td>505</td>\n",
       "      <td>10</td>\n",
       "      <td>0</td>\n",
       "      <td>0</td>\n",
       "    </tr>\n",
       "    <tr>\n",
       "      <th>101</th>\n",
       "      <td>350</td>\n",
       "      <td>0</td>\n",
       "      <td>0</td>\n",
       "      <td>0</td>\n",
       "    </tr>\n",
       "    <tr>\n",
       "      <th>102</th>\n",
       "      <td>325</td>\n",
       "      <td>20</td>\n",
       "      <td>0</td>\n",
       "      <td>1</td>\n",
       "    </tr>\n",
       "    <tr>\n",
       "      <th>104</th>\n",
       "      <td>600</td>\n",
       "      <td>5</td>\n",
       "      <td>0</td>\n",
       "      <td>0</td>\n",
       "    </tr>\n",
       "    <tr>\n",
       "      <th>105</th>\n",
       "      <td>215</td>\n",
       "      <td>50</td>\n",
       "      <td>0</td>\n",
       "      <td>1</td>\n",
       "    </tr>\n",
       "  </tbody>\n",
       "</table>\n",
       "</div>"
      ],
      "text/plain": [
       "               FOOD  TAXI  STATUS_PERMANENT  STATUS_PROBATION\n",
       "Employee_Code                                                \n",
       "001             900     0                 1                 0\n",
       "003             505    10                 0                 0\n",
       "101             350     0                 0                 0\n",
       "102             325    20                 0                 1\n",
       "104             600     5                 0                 0\n",
       "105             215    50                 0                 1"
      ]
     },
     "execution_count": 157,
     "metadata": {},
     "output_type": "execute_result"
    }
   ],
   "source": [
    "#or Multipipe Implementation\n",
    "Pipeline4 = pdp.OneHotEncode('Status')\n",
    "dfD5 = (dfT.pipe(Pipeline1).pipe(pdp.ColDrop('Gender')).pipe(Pipeline4).pipe(uppercase_column_name))\n",
    "dfD5"
   ]
  },
  {
   "cell_type": "code",
   "execution_count": null,
   "metadata": {},
   "outputs": [],
   "source": [
    "\n"
   ]
  },
  {
   "cell_type": "code",
   "execution_count": null,
   "metadata": {},
   "outputs": [],
   "source": []
  }
 ],
 "metadata": {
  "kernelspec": {
   "display_name": "Python",
   "language": "python",
   "name": "conda-env-python-py"
  },
  "language_info": {
   "codemirror_mode": {
    "name": "ipython",
    "version": 3
   },
   "file_extension": ".py",
   "mimetype": "text/x-python",
   "name": "python",
   "nbconvert_exporter": "python",
   "pygments_lexer": "ipython3",
   "version": "3.6.7"
  }
 },
 "nbformat": 4,
 "nbformat_minor": 4
}
